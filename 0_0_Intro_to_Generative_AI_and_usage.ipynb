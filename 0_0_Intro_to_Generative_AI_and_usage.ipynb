{
 "cells": [
  {
   "cell_type": "markdown",
   "metadata": {},
   "source": [
    "### Module1 : Fundamentals of Gen AI"
   ]
  },
  {
   "cell_type": "markdown",
   "metadata": {},
   "source": [
    "Objective : these learnings will equip you to make informed decisions use and deploy responsible Generative AI systems and ensure compliance with regulations"
   ]
  },
  {
   "cell_type": "markdown",
   "metadata": {},
   "source": [
    "1. Evolution of Gen AI: Gen AI is sub field of DL and DL is sub field of ML and ML is sub field of AI\n",
    "    - AI : AI focuses on creating intelligent machines capable of performing human related tasks\n",
    "        \n",
    "    - ML : it involves training machines to learn from data and make predictions, forecasting, reactive analysis etc\n",
    "        \n",
    "    - DL : Focuses on the development and implementation of Artificial Neural Networks achieved break through areas like image recognition and NLP\n",
    "        \n",
    "    - Gen AI: capable of generating text, images or other media in response to prompts models like Generative Adversarial Networks\n",
    "    \n",
    "2. what are AI and ML : \n",
    "    - AI is the simulation of human intelligence processed by computer systems. it enables machines to analyze and interpret complex data, learn from examples, make informed decisions or take action. AI Requires extensive domain knowledge and emphasizes on human expertise to design and execute the intelligent systems use cases : Humanoid robots, Crop Monitoring, Creating smart content\n",
    "    - ML : it involves the development and implementation of algorithms and models which enable computer systems to learn and make predictions or decisions. ML helps to train computer systems using large datasets. ML allows a machine to learn autonomously from past data use cases: customer churn, credit card fraud detection, image classification.\n",
    "    \n",
    "3. what is DL and GenAI: \n",
    "    - DL : it focuses on development and implementation of artificial neural networks inspired by the structure and function of human brain. it involves in training these neural networks to learn and makes predictions or decisions. use cases :  speech recognition, voice and image recognition, NLP like chatbots and voice assistants\n",
    "    - Gen AI : it is a type of AI system capable of generating text, images or other media in response to prompts. Gen AI models learn the patterns and structure of their input training data and it then generates new data that has similar characteristics. use cases : creative content generation, virtual avatars, data augmentation and synthesis\n",
    "    - it focuses o building systems which will generate new fresh data such as audio, video, images and text"
   ]
  },
  {
   "cell_type": "markdown",
   "metadata": {},
   "source": [
    "#### ML models are of two types \n",
    "- Discriminative(classification) \n",
    "- generative(regression) : a genearative model generates new data based on the input data.\n",
    "    we ask DallE tool to generate a office during rain and dark clouds and asocaites walking --> it generates a new image with prompts"
   ]
  },
  {
   "cell_type": "markdown",
   "metadata": {},
   "source": [
    "#### Types of Geneartive models\n",
    "- Generative Language Model : it design to generate coherent and contextually relevant text or speech, based on the input it receives. These models are trained on large amounts of data and predict  the likelihood of certain words or pharses given a specific context. \n",
    "    - EX. Text to text: this model accepts input and produces output as text in the same language or a different language tool : chatgpt\n",
    "    - Text to Image : this model accepts the input as text and produces output as image tool: Dall-E 3\n",
    "    \n",
    "- Generative Image Model : A Generative IMage model is designed to generate realistic or plausible images. it uses Deep Learning techniques, such as neural networks to learn patterns and features from a training dataset and then generates new images that resemble examples it has been exposed to.\n",
    "    - Ex Text to Video: this model accepts text as input and produces output as a video related to given text. tool: synthesia\n",
    "    - text to tasks this model performs specific tasks based on input tool: Google Bard"
   ]
  },
  {
   "cell_type": "markdown",
   "metadata": {},
   "source": [
    "#### Important generative AI tools\n",
    "- ChatGPT 4 : GPT stands for Generative Pretrained Transformer is receiving so much attention right now. it is a free chatbot\n",
    "- Dall-E 3: it refers to a neural network based model developed by OpenAI. It can generate highly realistic and coherent images from textual descriptions. the name is a combination of the artist salvador Dali and the animated character WALL-E indicating hte model's ability to generate surreal and imaginative images\n",
    "- Google Bard : it is an AI chatnot that can simulate human conversations using the NLP and ML. it is powered by LLM, specifically a light weight and optimize version of LaMDA(Language for Dialogue applications) and later PaLM2. Bard can help with creative tasks and explains complex topics\n",
    "- github copilot : it is an AI pair programmer that helps spftware professionals write code. it draws context from NLP and code. it suggests block of code"
   ]
  },
  {
   "cell_type": "markdown",
   "metadata": {},
   "source": [
    "- Developers: Code genration, code quality check, code debugging and conversion, knowledge base, trouble shooting issues, simulate Diverse scenarios and predict, code to text\n",
    "- Architects: Assist with new designs, knowledge base, trouble shooting issues, risk assessment, code to text"
   ]
  },
  {
   "cell_type": "markdown",
   "metadata": {},
   "source": [
    "Benefits of Gen AI:\n",
    "- Code generation\n",
    "- NLP\n",
    "- Software security\n",
    "- BUg detection and repair\n",
    "- UI Design\n",
    "- Automated code review\n",
    "- Automated testing\n",
    "- performance Optimization\n",
    "- Automated documentation generation"
   ]
  },
  {
   "cell_type": "markdown",
   "metadata": {},
   "source": [
    "### Module2 : Responsible use and Development of Generative AI"
   ]
  },
  {
   "cell_type": "code",
   "execution_count": null,
   "metadata": {},
   "outputs": [],
   "source": []
  }
 ],
 "metadata": {
  "kernelspec": {
   "display_name": "Python 3",
   "language": "python",
   "name": "python3"
  },
  "language_info": {
   "codemirror_mode": {
    "name": "ipython",
    "version": 3
   },
   "file_extension": ".py",
   "mimetype": "text/x-python",
   "name": "python",
   "nbconvert_exporter": "python",
   "pygments_lexer": "ipython3",
   "version": "3.6.5"
  }
 },
 "nbformat": 4,
 "nbformat_minor": 2
}
